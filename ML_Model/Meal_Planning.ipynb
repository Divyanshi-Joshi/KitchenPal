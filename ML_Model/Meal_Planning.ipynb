{
  "nbformat": 4,
  "nbformat_minor": 0,
  "metadata": {
    "colab": {
      "provenance": [],
      "gpuType": "T4"
    },
    "kernelspec": {
      "name": "python3",
      "display_name": "Python 3"
    },
    "language_info": {
      "name": "python"
    },
    "accelerator": "GPU"
  },
  "cells": [
    {
      "cell_type": "code",
      "execution_count": 1,
      "metadata": {
        "id": "txwHpZs-UY3o"
      },
      "outputs": [],
      "source": [
        "import pandas as pd\n",
        "import numpy as np\n",
        "import gensim\n",
        "from sklearn.metrics.pairwise import cosine_similarity"
      ]
    },
    {
      "cell_type": "code",
      "source": [
        "pip install scikit-surprise"
      ],
      "metadata": {
        "colab": {
          "base_uri": "https://localhost:8080/"
        },
        "id": "nUjR2iSZU7JE",
        "outputId": "820287ae-9322-43ca-b665-4a9ccff9583a"
      },
      "execution_count": 2,
      "outputs": [
        {
          "output_type": "stream",
          "name": "stdout",
          "text": [
            "Collecting scikit-surprise\n",
            "  Downloading scikit_surprise-1.1.4.tar.gz (154 kB)\n",
            "\u001b[?25l     \u001b[90m━━━━━━━━━━━━━━━━━━━━━━━━━━━━━━━━━━━━━━━━\u001b[0m \u001b[32m0.0/154.4 kB\u001b[0m \u001b[31m?\u001b[0m eta \u001b[36m-:--:--\u001b[0m\r\u001b[2K     \u001b[90m━━━━━━━━━━━━━━━━━━━━━━━━━━━━━━━━━━━━━━━━\u001b[0m \u001b[32m154.4/154.4 kB\u001b[0m \u001b[31m5.5 MB/s\u001b[0m eta \u001b[36m0:00:00\u001b[0m\n",
            "\u001b[?25h  Installing build dependencies ... \u001b[?25l\u001b[?25hdone\n",
            "  Getting requirements to build wheel ... \u001b[?25l\u001b[?25hdone\n",
            "  Preparing metadata (pyproject.toml) ... \u001b[?25l\u001b[?25hdone\n",
            "Requirement already satisfied: joblib>=1.2.0 in /usr/local/lib/python3.11/dist-packages (from scikit-surprise) (1.4.2)\n",
            "Requirement already satisfied: numpy>=1.19.5 in /usr/local/lib/python3.11/dist-packages (from scikit-surprise) (1.26.4)\n",
            "Requirement already satisfied: scipy>=1.6.0 in /usr/local/lib/python3.11/dist-packages (from scikit-surprise) (1.13.1)\n",
            "Building wheels for collected packages: scikit-surprise\n",
            "  Building wheel for scikit-surprise (pyproject.toml) ... \u001b[?25l\u001b[?25hdone\n",
            "  Created wheel for scikit-surprise: filename=scikit_surprise-1.1.4-cp311-cp311-linux_x86_64.whl size=2505184 sha256=5c5b4e083e86c27e47ddc2b356eac8be03bb0ac66b3c1222650a92164968b7bc\n",
            "  Stored in directory: /root/.cache/pip/wheels/2a/8f/6e/7e2899163e2d85d8266daab4aa1cdabec7a6c56f83c015b5af\n",
            "Successfully built scikit-surprise\n",
            "Installing collected packages: scikit-surprise\n",
            "Successfully installed scikit-surprise-1.1.4\n"
          ]
        }
      ]
    },
    {
      "cell_type": "code",
      "source": [
        "from surprise import Dataset, Reader, SVD\n",
        "from surprise.model_selection import train_test_split\n",
        "import pickle\n",
        "from flask import Flask, request, jsonify"
      ],
      "metadata": {
        "id": "5woeQP4nU-7A"
      },
      "execution_count": 4,
      "outputs": []
    },
    {
      "cell_type": "code",
      "source": [
        "from google.colab import drive\n",
        "drive.mount('/content/drive')\n",
        "\n",
        "# Change path to where your dataset is stored in Drive\n",
        "file_path = \"/content/drive/MyDrive/full_dataset.csv\"\n",
        "\n",
        "import pandas as pd\n",
        "use_cols = ['title', 'ingredients']  # Load only necessary columns\n",
        "df = pd.read_csv(file_path, usecols=use_cols)\n",
        "print(df.head())"
      ],
      "metadata": {
        "colab": {
          "base_uri": "https://localhost:8080/"
        },
        "id": "U1I9UmXsVQi-",
        "outputId": "04cfa55f-d9e5-48f6-b5b9-e4f62b3983f7"
      },
      "execution_count": 5,
      "outputs": [
        {
          "output_type": "stream",
          "name": "stdout",
          "text": [
            "Mounted at /content/drive\n",
            "                   title                                        ingredients\n",
            "0    No-Bake Nut Cookies  [\"1 c. firmly packed brown sugar\", \"1/2 c. eva...\n",
            "1  Jewell Ball'S Chicken  [\"1 small jar chipped beef, cut up\", \"4 boned ...\n",
            "2            Creamy Corn  [\"2 (16 oz.) pkg. frozen corn\", \"1 (8 oz.) pkg...\n",
            "3          Chicken Funny  [\"1 large whole chicken\", \"2 (10 1/2 oz.) cans...\n",
            "4   Reeses Cups(Candy)    [\"1 c. peanut butter\", \"3/4 c. graham cracker ...\n"
          ]
        }
      ]
    },
    {
      "cell_type": "code",
      "source": [
        "df['recipe_id'] = df.index"
      ],
      "metadata": {
        "id": "U3fGvjAYY8Vz"
      },
      "execution_count": 6,
      "outputs": []
    },
    {
      "cell_type": "code",
      "source": [
        "num_users = 5000  # Adjust as needed\n",
        "df['user_id'] = np.random.randint(1, num_users, size=len(df))\n",
        "df['rating'] = np.random.randint(1, 6, size=len(df))"
      ],
      "metadata": {
        "id": "JDHXILGCY-hT"
      },
      "execution_count": 7,
      "outputs": []
    },
    {
      "cell_type": "code",
      "source": [
        "print(df.info(memory_usage='deep'))"
      ],
      "metadata": {
        "id": "pfMDj8PYZArb",
        "colab": {
          "base_uri": "https://localhost:8080/"
        },
        "outputId": "9eba7c31-bee0-4f19-9023-f7dc11e60248"
      },
      "execution_count": 8,
      "outputs": [
        {
          "output_type": "stream",
          "name": "stdout",
          "text": [
            "<class 'pandas.core.frame.DataFrame'>\n",
            "RangeIndex: 2231142 entries, 0 to 2231141\n",
            "Data columns (total 5 columns):\n",
            " #   Column       Dtype \n",
            "---  ------       ----- \n",
            " 0   title        object\n",
            " 1   ingredients  object\n",
            " 2   recipe_id    int64 \n",
            " 3   user_id      int64 \n",
            " 4   rating       int64 \n",
            "dtypes: int64(3), object(2)\n",
            "memory usage: 896.1 MB\n",
            "None\n"
          ]
        }
      ]
    },
    {
      "cell_type": "code",
      "source": [
        "df['ingredients'] = df['ingredients'].apply(lambda x: eval(x) if isinstance(x, str) else [])"
      ],
      "metadata": {
        "id": "Z_egOzmoVgzm"
      },
      "execution_count": 9,
      "outputs": []
    },
    {
      "cell_type": "code",
      "source": [
        "recipes = df[['title', 'ingredients']]"
      ],
      "metadata": {
        "id": "HxnwkJ76Pq7t"
      },
      "execution_count": 10,
      "outputs": []
    },
    {
      "cell_type": "code",
      "source": [
        "w2v_model = gensim.models.Word2Vec(sentences=recipes['ingredients'], vector_size=100, window=5, min_count=1, workers=4)"
      ],
      "metadata": {
        "id": "bNFZtaiEPuUb"
      },
      "execution_count": 11,
      "outputs": []
    },
    {
      "cell_type": "code",
      "source": [
        "def get_recipe_embedding(ingredients):\n",
        "    vectors = [w2v_model.wv[word] for word in ingredients if word in w2v_model.wv]\n",
        "    return np.mean(vectors, axis=0) if vectors else np.zeros(100)"
      ],
      "metadata": {
        "id": "rFUkay5cQClt"
      },
      "execution_count": 12,
      "outputs": []
    },
    {
      "cell_type": "code",
      "source": [
        "recipes['embedding'] = recipes['ingredients'].apply(get_recipe_embedding)"
      ],
      "metadata": {
        "id": "zIHKae84Tiz2",
        "colab": {
          "base_uri": "https://localhost:8080/"
        },
        "outputId": "b242e6b3-0208-458b-99e3-5905a2c6f186"
      },
      "execution_count": 13,
      "outputs": [
        {
          "output_type": "stream",
          "name": "stderr",
          "text": [
            "<ipython-input-13-075c904f9aad>:1: SettingWithCopyWarning: \n",
            "A value is trying to be set on a copy of a slice from a DataFrame.\n",
            "Try using .loc[row_indexer,col_indexer] = value instead\n",
            "\n",
            "See the caveats in the documentation: https://pandas.pydata.org/pandas-docs/stable/user_guide/indexing.html#returning-a-view-versus-a-copy\n",
            "  recipes['embedding'] = recipes['ingredients'].apply(get_recipe_embedding)\n"
          ]
        }
      ]
    },
    {
      "cell_type": "code",
      "source": [
        "print(df.columns)"
      ],
      "metadata": {
        "id": "zFfunbi0USgj",
        "colab": {
          "base_uri": "https://localhost:8080/"
        },
        "outputId": "ab2077dd-d682-4e92-dcf0-e950a81e9f73"
      },
      "execution_count": 14,
      "outputs": [
        {
          "output_type": "stream",
          "name": "stdout",
          "text": [
            "Index(['title', 'ingredients', 'recipe_id', 'user_id', 'rating'], dtype='object')\n"
          ]
        }
      ]
    },
    {
      "cell_type": "code",
      "source": [
        "# Verify the new columns\n",
        "print(df[['user_id', 'recipe_id', 'rating']].head())"
      ],
      "metadata": {
        "id": "DOahlFW7UjHl",
        "colab": {
          "base_uri": "https://localhost:8080/"
        },
        "outputId": "cfb9e9dd-4e6d-4e6d-bc7d-e3219556e1a2"
      },
      "execution_count": 15,
      "outputs": [
        {
          "output_type": "stream",
          "name": "stdout",
          "text": [
            "   user_id  recipe_id  rating\n",
            "0     4573          0       1\n",
            "1     1896          1       5\n",
            "2     2201          2       5\n",
            "3     2067          3       1\n",
            "4      221          4       3\n"
          ]
        }
      ]
    },
    {
      "cell_type": "code",
      "source": [
        "from surprise import Dataset, Reader, SVD\n",
        "from surprise.model_selection import train_test_split\n",
        "\n",
        "df_sample = df.sample(n=500000, random_state=42)  # Take a 500K row sample"
      ],
      "metadata": {
        "id": "gRJwaOtsUkhP"
      },
      "execution_count": 16,
      "outputs": []
    },
    {
      "cell_type": "markdown",
      "source": [
        "# Collaborative Filtering Model (User-Recipe Matrix Factorization)"
      ],
      "metadata": {
        "id": "-81x856yTwVM"
      }
    },
    {
      "cell_type": "code",
      "source": [
        "reader = Reader(rating_scale=(1, 5))\n",
        "data = Dataset.load_from_df(df_sample[['user_id', 'recipe_id', 'rating']], reader)"
      ],
      "metadata": {
        "id": "iKBY0pPWUm8R"
      },
      "execution_count": 17,
      "outputs": []
    },
    {
      "cell_type": "code",
      "source": [
        "# Split data for training/testing\n",
        "trainset, testset = train_test_split(data, test_size=0.2)"
      ],
      "metadata": {
        "id": "HYYqdSCGOZXZ"
      },
      "execution_count": 18,
      "outputs": []
    },
    {
      "cell_type": "code",
      "source": [
        "# Convert to Surprise's internal dataset format\n",
        "trainset = data.build_full_trainset()"
      ],
      "metadata": {
        "id": "tp0aBkrkOcaM"
      },
      "execution_count": 19,
      "outputs": []
    },
    {
      "cell_type": "code",
      "source": [
        "# Train SVD model\n",
        "svd = SVD(n_factors=50, n_epochs=10, verbose=True)"
      ],
      "metadata": {
        "id": "gEJQRa8SOfhI"
      },
      "execution_count": 20,
      "outputs": []
    },
    {
      "cell_type": "code",
      "source": [
        "svd.fit(trainset)"
      ],
      "metadata": {
        "colab": {
          "base_uri": "https://localhost:8080/"
        },
        "id": "RACMGPLlOi-Y",
        "outputId": "ca85aa81-bde8-4992-f16e-d05a8246cbf2"
      },
      "execution_count": 21,
      "outputs": [
        {
          "output_type": "stream",
          "name": "stdout",
          "text": [
            "Processing epoch 0\n",
            "Processing epoch 1\n",
            "Processing epoch 2\n",
            "Processing epoch 3\n",
            "Processing epoch 4\n",
            "Processing epoch 5\n",
            "Processing epoch 6\n",
            "Processing epoch 7\n",
            "Processing epoch 8\n",
            "Processing epoch 9\n"
          ]
        },
        {
          "output_type": "execute_result",
          "data": {
            "text/plain": [
              "<surprise.prediction_algorithms.matrix_factorization.SVD at 0x7d6fe6470550>"
            ]
          },
          "metadata": {},
          "execution_count": 21
        }
      ]
    },
    {
      "cell_type": "markdown",
      "source": [
        "# Save models"
      ],
      "metadata": {
        "id": "H9o-9rjpT1EJ"
      }
    },
    {
      "cell_type": "code",
      "source": [
        "with open(\"w2v_model.pkl\", \"wb\") as f:\n",
        "    pickle.dump(w2v_model, f, protocol=pickle.HIGHEST_PROTOCOL)"
      ],
      "metadata": {
        "id": "V5t_tWlUTz9O"
      },
      "execution_count": 22,
      "outputs": []
    },
    {
      "cell_type": "code",
      "source": [
        "import pickle\n",
        "\n",
        "with open(\"w2v_model.pkl\", \"wb\") as f:\n",
        "    for word in list(w2v_model.wv.index_to_key):  # Iterate over words in vocabulary\n",
        "        pickle.dump({word: w2v_model.wv[word]}, f, protocol=pickle.HIGHEST_PROTOCOL)"
      ],
      "metadata": {
        "id": "HyFz6KfWTQ3N"
      },
      "execution_count": 23,
      "outputs": []
    },
    {
      "cell_type": "code",
      "source": [
        "from google.colab import drive\n",
        "drive.mount('/content/drive')\n",
        "\n",
        "save_path = \"/content/drive/MyDrive/w2v_model.pkl\"\n",
        "\n",
        "with open(save_path, \"wb\") as f:\n",
        "    pickle.dump(w2v_model, f, protocol=pickle.HIGHEST_PROTOCOL)"
      ],
      "metadata": {
        "colab": {
          "base_uri": "https://localhost:8080/"
        },
        "id": "0KfcA7BIUPeZ",
        "outputId": "afb91189-cddc-499e-cae9-e6ec4c5cb647"
      },
      "execution_count": 24,
      "outputs": [
        {
          "output_type": "stream",
          "name": "stdout",
          "text": [
            "Drive already mounted at /content/drive; to attempt to forcibly remount, call drive.mount(\"/content/drive\", force_remount=True).\n"
          ]
        }
      ]
    },
    {
      "cell_type": "code",
      "source": [
        "pickle.dump(svd, open(\"svd_model.pkl\", \"wb\"))"
      ],
      "metadata": {
        "id": "IIkmJ9WiO7HG"
      },
      "execution_count": 25,
      "outputs": []
    },
    {
      "cell_type": "markdown",
      "source": [
        "# Flask API"
      ],
      "metadata": {
        "id": "fvJwzz1gVZ1z"
      }
    },
    {
      "cell_type": "code",
      "source": [
        "app = Flask(__name__)\n",
        "\n",
        "@app.route('/recommend', methods=['POST'])\n",
        "def recommend():\n",
        "    data = request.json\n",
        "    ingredients = data.get(\"ingredients\", [])\n",
        "    user_id = data.get(\"user_id\")\n",
        "\n",
        "    # Content-Based Filtering\n",
        "    input_embedding = get_recipe_embedding(ingredients)\n",
        "    recipes['similarity'] = recipes['embedding'].apply(lambda x: cosine_similarity([input_embedding], [x])[0][0])\n",
        "    content_recs = recipes.nlargest(5, 'similarity')[['title']].to_dict(orient='records')\n",
        "\n",
        "    # Collaborative Filtering\n",
        "    collab_recs = df[df['user_id'] == user_id].nlargest(5, 'rating')['recipe_id'].tolist()\n",
        "\n",
        "    return jsonify({\n",
        "        \"content_based\": content_recs,\n",
        "        \"collaborative\": collab_recs\n",
        "    })\n",
        "\n",
        "if __name__ == '__main__':\n",
        "    app.run(debug=True)"
      ],
      "metadata": {
        "colab": {
          "base_uri": "https://localhost:8080/"
        },
        "id": "Jq90c58BVf9i",
        "outputId": "579780c7-56b3-4c3b-84b4-0673420cf406"
      },
      "execution_count": null,
      "outputs": [
        {
          "output_type": "stream",
          "name": "stdout",
          "text": [
            " * Serving Flask app '__main__'\n",
            " * Debug mode: on\n"
          ]
        },
        {
          "output_type": "stream",
          "name": "stderr",
          "text": [
            "INFO:werkzeug:\u001b[31m\u001b[1mWARNING: This is a development server. Do not use it in a production deployment. Use a production WSGI server instead.\u001b[0m\n",
            " * Running on http://127.0.0.1:5000\n",
            "INFO:werkzeug:\u001b[33mPress CTRL+C to quit\u001b[0m\n",
            "INFO:werkzeug: * Restarting with stat\n"
          ]
        }
      ]
    }
  ]
}